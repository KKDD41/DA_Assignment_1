{
 "cells": [
  {
   "cell_type": "code",
   "execution_count": 1,
   "id": "588fd15f-de8d-459f-b181-b7c631843d2a",
   "metadata": {},
   "outputs": [],
   "source": [
    "import datetime\n",
    "from utils.data_processing import (\n",
    "    load_dataset, \n",
    "    display_dataset_description, \n",
    "    remove_duplicates_and_empty_rows,\n",
    "    check_if_column_is_unique_per_row,\n",
    "    BRONZE_PATH,\n",
    "    GROUP_FILENAME,\n",
    "    POSTS_FILENAME\n",
    ")"
   ]
  },
  {
   "cell_type": "code",
   "execution_count": 2,
   "id": "f4ff9e6c-bfcb-439b-bd34-79e38db4b379",
   "metadata": {},
   "outputs": [],
   "source": [
    "group_df_raw = load_dataset(filepath=BRONZE_PATH + GROUP_FILENAME)\n",
    "posts_df_raw = load_dataset(filepath=BRONZE_PATH + POSTS_FILENAME)"
   ]
  },
  {
   "cell_type": "markdown",
   "id": "58e7e587-322f-4d8b-8f5c-83d4370f8611",
   "metadata": {},
   "source": [
    "# Exploratory Data Analysis:\n",
    "\n",
    "In this notebook analysis of initial (_bronze_ layer) datasets will be conducted. Based on the research done, necessary transformations\n",
    "will be defined to load data to _silver_ layer.\n",
    "\n",
    "Main purposes of the preformed EDA:\n",
    "1. Define proper type for each feature.\n",
    "2. Clean datasets if there exists duplicated or completely empty rows.\n",
    "3. Check dependencies between two datasets.\n",
    "4. Analyze empty and invalid values for each feature.\n",
    "5. Detect possible distribution for each numerical feature.\n",
    "6. Investigate correlation between features.\n",
    "7. Define strategies of empty values handling for each feature."
   ]
  },
  {
   "cell_type": "markdown",
   "id": "154c55be-234b-4838-a304-29a00339f2a4",
   "metadata": {
    "jp-MarkdownHeadingCollapsed": true
   },
   "source": [
    "## Feature types:"
   ]
  },
  {
   "cell_type": "markdown",
   "id": "c2238031-7c05-4b1d-b7ed-a9225bfa386f",
   "metadata": {},
   "source": [
    "### Investigation:"
   ]
  },
  {
   "cell_type": "markdown",
   "id": "b23c290c-e963-4c70-a291-bb88d70b02a6",
   "metadata": {},
   "source": [
    "Sample values:"
   ]
  },
  {
   "cell_type": "code",
   "execution_count": 3,
   "id": "8bcd4c69-06c0-49dd-af30-1fdbe895535e",
   "metadata": {},
   "outputs": [
    {
     "data": {
      "text/html": [
       "<div>\n",
       "<style scoped>\n",
       "    .dataframe tbody tr th:only-of-type {\n",
       "        vertical-align: middle;\n",
       "    }\n",
       "\n",
       "    .dataframe tbody tr th {\n",
       "        vertical-align: top;\n",
       "    }\n",
       "\n",
       "    .dataframe thead th {\n",
       "        text-align: right;\n",
       "    }\n",
       "</style>\n",
       "<table border=\"1\" class=\"dataframe\">\n",
       "  <thead>\n",
       "    <tr style=\"text-align: right;\">\n",
       "      <th></th>\n",
       "      <th>post_id</th>\n",
       "      <th>group_name</th>\n",
       "    </tr>\n",
       "  </thead>\n",
       "  <tbody>\n",
       "    <tr>\n",
       "      <th>0</th>\n",
       "      <td>1</td>\n",
       "      <td>groupE</td>\n",
       "    </tr>\n",
       "    <tr>\n",
       "      <th>1</th>\n",
       "      <td>2</td>\n",
       "      <td>groupC</td>\n",
       "    </tr>\n",
       "    <tr>\n",
       "      <th>2</th>\n",
       "      <td>3</td>\n",
       "      <td>groupC</td>\n",
       "    </tr>\n",
       "    <tr>\n",
       "      <th>3</th>\n",
       "      <td>4</td>\n",
       "      <td>groupD</td>\n",
       "    </tr>\n",
       "    <tr>\n",
       "      <th>4</th>\n",
       "      <td>5</td>\n",
       "      <td>groupE</td>\n",
       "    </tr>\n",
       "    <tr>\n",
       "      <th>...</th>\n",
       "      <td>...</td>\n",
       "      <td>...</td>\n",
       "    </tr>\n",
       "    <tr>\n",
       "      <th>19995</th>\n",
       "      <td>19996</td>\n",
       "      <td>groupB</td>\n",
       "    </tr>\n",
       "    <tr>\n",
       "      <th>19996</th>\n",
       "      <td>19997</td>\n",
       "      <td>groupD</td>\n",
       "    </tr>\n",
       "    <tr>\n",
       "      <th>19997</th>\n",
       "      <td>19998</td>\n",
       "      <td>groupA</td>\n",
       "    </tr>\n",
       "    <tr>\n",
       "      <th>19998</th>\n",
       "      <td>19999</td>\n",
       "      <td>groupC</td>\n",
       "    </tr>\n",
       "    <tr>\n",
       "      <th>19999</th>\n",
       "      <td>20000</td>\n",
       "      <td>groupD</td>\n",
       "    </tr>\n",
       "  </tbody>\n",
       "</table>\n",
       "<p>20000 rows × 2 columns</p>\n",
       "</div>"
      ],
      "text/plain": [
       "       post_id group_name\n",
       "0            1     groupE\n",
       "1            2     groupC\n",
       "2            3     groupC\n",
       "3            4     groupD\n",
       "4            5     groupE\n",
       "...        ...        ...\n",
       "19995    19996     groupB\n",
       "19996    19997     groupD\n",
       "19997    19998     groupA\n",
       "19998    19999     groupC\n",
       "19999    20000     groupD\n",
       "\n",
       "[20000 rows x 2 columns]"
      ]
     },
     "execution_count": 3,
     "metadata": {},
     "output_type": "execute_result"
    }
   ],
   "source": [
    "group_df_raw"
   ]
  },
  {
   "cell_type": "code",
   "execution_count": 4,
   "id": "3c3dae64-e95a-4521-99eb-039c34eb3339",
   "metadata": {},
   "outputs": [
    {
     "data": {
      "text/html": [
       "<div>\n",
       "<style scoped>\n",
       "    .dataframe tbody tr th:only-of-type {\n",
       "        vertical-align: middle;\n",
       "    }\n",
       "\n",
       "    .dataframe tbody tr th {\n",
       "        vertical-align: top;\n",
       "    }\n",
       "\n",
       "    .dataframe thead th {\n",
       "        text-align: right;\n",
       "    }\n",
       "</style>\n",
       "<table border=\"1\" class=\"dataframe\">\n",
       "  <thead>\n",
       "    <tr style=\"text-align: right;\">\n",
       "      <th></th>\n",
       "      <th>post_id</th>\n",
       "      <th>post_date</th>\n",
       "      <th>post_type</th>\n",
       "      <th>reach</th>\n",
       "      <th>click</th>\n",
       "      <th>likes</th>\n",
       "      <th>comments</th>\n",
       "      <th>share</th>\n",
       "      <th>reaction</th>\n",
       "    </tr>\n",
       "  </thead>\n",
       "  <tbody>\n",
       "    <tr>\n",
       "      <th>0</th>\n",
       "      <td>1</td>\n",
       "      <td>2024-01-10</td>\n",
       "      <td>article</td>\n",
       "      <td>848706</td>\n",
       "      <td>67896</td>\n",
       "      <td>59409.0</td>\n",
       "      <td>241</td>\n",
       "      <td>37</td>\n",
       "      <td>384</td>\n",
       "    </tr>\n",
       "    <tr>\n",
       "      <th>1</th>\n",
       "      <td>2</td>\n",
       "      <td>2024-02-06</td>\n",
       "      <td>short</td>\n",
       "      <td>7927</td>\n",
       "      <td>476</td>\n",
       "      <td>317.0</td>\n",
       "      <td>284</td>\n",
       "      <td>72</td>\n",
       "      <td>16</td>\n",
       "    </tr>\n",
       "    <tr>\n",
       "      <th>2</th>\n",
       "      <td>3</td>\n",
       "      <td>2024-01-18</td>\n",
       "      <td>short</td>\n",
       "      <td>8326</td>\n",
       "      <td>666</td>\n",
       "      <td>167.0</td>\n",
       "      <td>252</td>\n",
       "      <td>32</td>\n",
       "      <td>50</td>\n",
       "    </tr>\n",
       "    <tr>\n",
       "      <th>3</th>\n",
       "      <td>4</td>\n",
       "      <td>2024-02-11</td>\n",
       "      <td>short</td>\n",
       "      <td>4039</td>\n",
       "      <td>162</td>\n",
       "      <td>40.0</td>\n",
       "      <td>149</td>\n",
       "      <td>87</td>\n",
       "      <td>487</td>\n",
       "    </tr>\n",
       "    <tr>\n",
       "      <th>4</th>\n",
       "      <td>5</td>\n",
       "      <td>2024-03-13</td>\n",
       "      <td>promo</td>\n",
       "      <td>496568</td>\n",
       "      <td>39725</td>\n",
       "      <td>14897.0</td>\n",
       "      <td>57</td>\n",
       "      <td>7</td>\n",
       "      <td>271</td>\n",
       "    </tr>\n",
       "    <tr>\n",
       "      <th>...</th>\n",
       "      <td>...</td>\n",
       "      <td>...</td>\n",
       "      <td>...</td>\n",
       "      <td>...</td>\n",
       "      <td>...</td>\n",
       "      <td>...</td>\n",
       "      <td>...</td>\n",
       "      <td>...</td>\n",
       "      <td>...</td>\n",
       "    </tr>\n",
       "    <tr>\n",
       "      <th>19995</th>\n",
       "      <td>19996</td>\n",
       "      <td>2024-01-01</td>\n",
       "      <td>article</td>\n",
       "      <td>844</td>\n",
       "      <td>51</td>\n",
       "      <td>68.0</td>\n",
       "      <td>71</td>\n",
       "      <td>100</td>\n",
       "      <td>257</td>\n",
       "    </tr>\n",
       "    <tr>\n",
       "      <th>19996</th>\n",
       "      <td>19997</td>\n",
       "      <td>2024-01-14</td>\n",
       "      <td>short</td>\n",
       "      <td>4139</td>\n",
       "      <td>331</td>\n",
       "      <td>83.0</td>\n",
       "      <td>275</td>\n",
       "      <td>70</td>\n",
       "      <td>295</td>\n",
       "    </tr>\n",
       "    <tr>\n",
       "      <th>19997</th>\n",
       "      <td>19998</td>\n",
       "      <td>2024-01-15</td>\n",
       "      <td>article</td>\n",
       "      <td>457</td>\n",
       "      <td>41</td>\n",
       "      <td>18.0</td>\n",
       "      <td>155</td>\n",
       "      <td>71</td>\n",
       "      <td>281</td>\n",
       "    </tr>\n",
       "    <tr>\n",
       "      <th>19998</th>\n",
       "      <td>19999</td>\n",
       "      <td>2024-01-03</td>\n",
       "      <td>short</td>\n",
       "      <td>92</td>\n",
       "      <td>6</td>\n",
       "      <td>7.0</td>\n",
       "      <td>156</td>\n",
       "      <td>40</td>\n",
       "      <td>379</td>\n",
       "    </tr>\n",
       "    <tr>\n",
       "      <th>19999</th>\n",
       "      <td>20000</td>\n",
       "      <td>2024-03-21</td>\n",
       "      <td>short</td>\n",
       "      <td>9870</td>\n",
       "      <td>197</td>\n",
       "      <td>691.0</td>\n",
       "      <td>222</td>\n",
       "      <td>4</td>\n",
       "      <td>132</td>\n",
       "    </tr>\n",
       "  </tbody>\n",
       "</table>\n",
       "<p>20000 rows × 9 columns</p>\n",
       "</div>"
      ],
      "text/plain": [
       "       post_id   post_date post_type   reach  click    likes  comments  share  \\\n",
       "0            1  2024-01-10   article  848706  67896  59409.0       241     37   \n",
       "1            2  2024-02-06     short    7927    476    317.0       284     72   \n",
       "2            3  2024-01-18     short    8326    666    167.0       252     32   \n",
       "3            4  2024-02-11     short    4039    162     40.0       149     87   \n",
       "4            5  2024-03-13     promo  496568  39725  14897.0        57      7   \n",
       "...        ...         ...       ...     ...    ...      ...       ...    ...   \n",
       "19995    19996  2024-01-01   article     844     51     68.0        71    100   \n",
       "19996    19997  2024-01-14     short    4139    331     83.0       275     70   \n",
       "19997    19998  2024-01-15   article     457     41     18.0       155     71   \n",
       "19998    19999  2024-01-03     short      92      6      7.0       156     40   \n",
       "19999    20000  2024-03-21     short    9870    197    691.0       222      4   \n",
       "\n",
       "       reaction  \n",
       "0           384  \n",
       "1            16  \n",
       "2            50  \n",
       "3           487  \n",
       "4           271  \n",
       "...         ...  \n",
       "19995       257  \n",
       "19996       295  \n",
       "19997       281  \n",
       "19998       379  \n",
       "19999       132  \n",
       "\n",
       "[20000 rows x 9 columns]"
      ]
     },
     "execution_count": 4,
     "metadata": {},
     "output_type": "execute_result"
    }
   ],
   "source": [
    "posts_df_raw"
   ]
  },
  {
   "cell_type": "markdown",
   "id": "c846ee5c-7112-4388-b0a2-0c63195e33f6",
   "metadata": {},
   "source": [
    "List of features and their types:"
   ]
  },
  {
   "cell_type": "code",
   "execution_count": 5,
   "id": "7fcfacb6-37b0-47bf-bc16-931d86e2497d",
   "metadata": {},
   "outputs": [
    {
     "data": {
      "text/plain": [
       "post_id        int64\n",
       "group_name    object\n",
       "dtype: object"
      ]
     },
     "execution_count": 5,
     "metadata": {},
     "output_type": "execute_result"
    }
   ],
   "source": [
    "group_df_raw.dtypes"
   ]
  },
  {
   "cell_type": "code",
   "execution_count": 6,
   "id": "51cbde40-5aac-4602-812c-4b48cf62341b",
   "metadata": {},
   "outputs": [
    {
     "data": {
      "text/plain": [
       "post_id        int64\n",
       "post_date     object\n",
       "post_type     object\n",
       "reach          int64\n",
       "click          int64\n",
       "likes        float64\n",
       "comments       int64\n",
       "share          int64\n",
       "reaction       int64\n",
       "dtype: object"
      ]
     },
     "execution_count": 6,
     "metadata": {},
     "output_type": "execute_result"
    }
   ],
   "source": [
    "posts_df_raw.dtypes"
   ]
  },
  {
   "cell_type": "markdown",
   "id": "1207fda9-0915-4480-be3c-11b4dec5bd21",
   "metadata": {},
   "source": [
    "### Conclusion:"
   ]
  },
  {
   "cell_type": "markdown",
   "id": "c09d41ef-42d0-42ce-b721-c7969e146c1d",
   "metadata": {},
   "source": [
    "According to the information above, following schemas will be applied to the datasets for proper types handling:"
   ]
  },
  {
   "cell_type": "code",
   "execution_count": 7,
   "id": "698cacc5-00eb-485c-b51e-3150efeae783",
   "metadata": {},
   "outputs": [],
   "source": [
    "group_df_schema = {\n",
    "    \"post_id\" : int,\n",
    "    \"group_name\" : str\n",
    "}"
   ]
  },
  {
   "cell_type": "code",
   "execution_count": 8,
   "id": "ff753f4d-89df-49ad-8b47-b573b9710e5f",
   "metadata": {},
   "outputs": [],
   "source": [
    "posts_df_schema = {\n",
    "    \"post_id\" : int,\n",
    "    \"post_date\" : object,\n",
    "    \"post_type\" : str,\n",
    "    \"reach\" : int,\n",
    "    \"click\" : int,\n",
    "    \"likes\" : float,\n",
    "    \"comments\" : int,\n",
    "    \"share\" : int,\n",
    "    \"reaction\" : int\n",
    "}"
   ]
  },
  {
   "cell_type": "markdown",
   "id": "14864459-b912-47c2-af3d-c28f5850f277",
   "metadata": {},
   "source": [
    "Reloading datasets with proper data types applied:"
   ]
  },
  {
   "cell_type": "code",
   "execution_count": 9,
   "id": "d822b1f3-cab9-403a-81b5-000663087b73",
   "metadata": {},
   "outputs": [],
   "source": [
    "group_df_converted_types = load_dataset(BRONZE_PATH + GROUP_FILENAME, dtype=group_df_schema)\n",
    "posts_df_converted_types = load_dataset(BRONZE_PATH + POSTS_FILENAME, dtype=posts_df_schema, parse_dates=[\"post_date\"], date_format=\"%Y-%m-%d\")"
   ]
  },
  {
   "cell_type": "markdown",
   "id": "2f65108a-191e-433d-a300-5c15fbb29725",
   "metadata": {
    "jp-MarkdownHeadingCollapsed": true
   },
   "source": [
    "## Empty and duplicated rows:"
   ]
  },
  {
   "cell_type": "markdown",
   "id": "88fe4292-747e-4125-84f8-e7ffb922c15f",
   "metadata": {},
   "source": [
    "### Investigation:"
   ]
  },
  {
   "cell_type": "markdown",
   "id": "40780142-980a-483f-aa90-03ac247d1faa",
   "metadata": {},
   "source": [
    "Removing completely empty and duplicated rows, and cheking how many rows were removed"
   ]
  },
  {
   "cell_type": "code",
   "execution_count": 10,
   "id": "dcad3c91-8a29-45ed-a028-606f99a28182",
   "metadata": {},
   "outputs": [
    {
     "name": "stdout",
     "output_type": "stream",
     "text": [
      "For dataset 'GROUP_DF':\n",
      "Number of duplicated rows: 0.\n",
      "Number of empty rows: 0. \n",
      "\n",
      "For dataset 'POSTS_DF':\n",
      "Number of duplicated rows: 0.\n",
      "Number of empty rows: 0. \n",
      "\n"
     ]
    }
   ],
   "source": [
    "group_df_cleaned_rows = remove_duplicates_and_empty_rows(group_df_converted_types, \"GROUP_DF\")\n",
    "posts_df_cleaned_rows = remove_duplicates_and_empty_rows(posts_df_converted_types, \"POSTS_DF\")"
   ]
  },
  {
   "cell_type": "markdown",
   "id": "93cb422d-fb59-4417-a156-2b09310dce27",
   "metadata": {},
   "source": [
    "### Conclusion:"
   ]
  },
  {
   "cell_type": "markdown",
   "id": "424f855e-d01b-4a33-a645-951fe390066b",
   "metadata": {},
   "source": [
    "There are no duplicates or empty rows, what cannot but please."
   ]
  },
  {
   "cell_type": "markdown",
   "id": "30c404d1-317e-4eca-8f4e-a5bc95b9496d",
   "metadata": {},
   "source": [
    "## Dependencies between datasets:"
   ]
  },
  {
   "cell_type": "markdown",
   "id": "e60e96f1-d809-4beb-967d-6cb692a7951a",
   "metadata": {},
   "source": [
    "### Investigation:"
   ]
  },
  {
   "cell_type": "markdown",
   "id": "708d446f-ed01-4586-96ae-986e5513ab8d",
   "metadata": {},
   "source": [
    "Checking whether `post_id` is a PK for both datasets"
   ]
  },
  {
   "cell_type": "code",
   "execution_count": 11,
   "id": "4e4bb407-2f47-4f8c-88ab-0e995fa5d6a4",
   "metadata": {},
   "outputs": [
    {
     "data": {
      "text/plain": [
       "True"
      ]
     },
     "execution_count": 11,
     "metadata": {},
     "output_type": "execute_result"
    }
   ],
   "source": [
    "check_if_column_is_unique_per_row(group_df_cleaned_rows, \"post_id\")"
   ]
  },
  {
   "cell_type": "code",
   "execution_count": 13,
   "id": "c5779c82-9960-4f81-99a8-cd913058673a",
   "metadata": {},
   "outputs": [
    {
     "data": {
      "text/plain": [
       "True"
      ]
     },
     "execution_count": 13,
     "metadata": {},
     "output_type": "execute_result"
    }
   ],
   "source": [
    "check_if_column_is_unique_per_row(posts_df_cleaned_rows, \"post_id\")"
   ]
  },
  {
   "cell_type": "markdown",
   "id": "5bbc0e52-b563-4fb3-9584-5d84222e4150",
   "metadata": {},
   "source": [
    "Comparing values of `post_id` from each dataset"
   ]
  },
  {
   "cell_type": "code",
   "execution_count": 14,
   "id": "958ab36e-3271-4f48-b57f-eaa05ad4004e",
   "metadata": {},
   "outputs": [
    {
     "data": {
      "text/plain": [
       "True"
      ]
     },
     "execution_count": 14,
     "metadata": {},
     "output_type": "execute_result"
    }
   ],
   "source": [
    "group_post_ids = sorted(group_df_cleaned_rows[\"post_id\"].to_list())\n",
    "posts_post_ids = sorted(posts_df_cleaned_rows[\"post_id\"].to_list())\n",
    "\n",
    "group_post_ids == posts_post_ids"
   ]
  },
  {
   "cell_type": "markdown",
   "id": "76e7b2ca-6a41-473f-8015-926ac048c758",
   "metadata": {},
   "source": [
    "### Conclusion:"
   ]
  },
  {
   "cell_type": "markdown",
   "id": "061dd619-f1fd-4610-b3a2-29889014e135",
   "metadata": {},
   "source": [
    "Column `post_id` is unique per row for each dataset and can be treated as PK for each table. Moreover relation between two enteties is one-to-one."
   ]
  },
  {
   "cell_type": "markdown",
   "id": "4f3bcef5-2a04-47f3-aa6b-9f4407ac0fb7",
   "metadata": {},
   "source": [
    "## Features analysis:"
   ]
  },
  {
   "cell_type": "code",
   "execution_count": null,
   "id": "7e30b5a5-5f55-457b-b03b-fe3667a62c9e",
   "metadata": {},
   "outputs": [],
   "source": []
  }
 ],
 "metadata": {
  "kernelspec": {
   "display_name": "Python 3 (ipykernel)",
   "language": "python",
   "name": "python3"
  },
  "language_info": {
   "codemirror_mode": {
    "name": "ipython",
    "version": 3
   },
   "file_extension": ".py",
   "mimetype": "text/x-python",
   "name": "python",
   "nbconvert_exporter": "python",
   "pygments_lexer": "ipython3",
   "version": "3.10.11"
  }
 },
 "nbformat": 4,
 "nbformat_minor": 5
}
