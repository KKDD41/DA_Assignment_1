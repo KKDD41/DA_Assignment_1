{
 "cells": [
  {
   "cell_type": "code",
   "execution_count": 1,
   "id": "e60b10d8-31b2-47c7-aa95-6ae113f8abe1",
   "metadata": {},
   "outputs": [],
   "source": [
    "import datetime\n",
    "import numpy as np\n",
    "import pandas as pd\n",
    "import seaborn as sns\n",
    "import matplotlib.pyplot as plt\n",
    "from utils.data_processing import (\n",
    "    load_dataset, \n",
    "    save_dataset,\n",
    "    remove_duplicates_and_empty_rows,\n",
    "    check_if_column_is_unique_per_row,\n",
    "    predict_missing_values_with_linear_regression,\n",
    "    get_outliers_IRQ,\n",
    "    get_distinct_rows_from_dataframes,\n",
    "    BRONZE_PATH,\n",
    "    SILVER_PATH,\n",
    "    GOLD_PATH,\n",
    "    GROUP_FILENAME,\n",
    "    POSTS_FILENAME\n",
    ")\n",
    "from utils.data_visualization import (\n",
    "    analyse_categorical_features,\n",
    "    analyse_numerical_features,\n",
    "    analyse_numerical_features_per_category,\n",
    "    plot_correlation_matrices,\n",
    "    plot_scatter_graph,\n",
    "    analyse_aggregated_features_per_category,\n",
    "    analyse_features_trend\n",
    ")"
   ]
  },
  {
   "cell_type": "code",
   "execution_count": 2,
   "id": "d030c7b0-9173-4a1d-8140-cdb459bef7bb",
   "metadata": {},
   "outputs": [],
   "source": [
    "posts_df_aggregated = load_dataset(GOLD_PATH + \"posts_and_group_df_with_new_metrics_agg_by_date\", \"parquet\")"
   ]
  },
  {
   "cell_type": "markdown",
   "id": "62961827-18cf-474d-93ef-8f11f0acdea5",
   "metadata": {},
   "source": [
    "## Prediction of `reach` and `clicks` for the next month:"
   ]
  },
  {
   "cell_type": "code",
   "execution_count": null,
   "id": "f5f382cd-d4c7-4be8-8d55-393c284ac4b7",
   "metadata": {},
   "outputs": [],
   "source": []
  }
 ],
 "metadata": {
  "kernelspec": {
   "display_name": "Python 3 (ipykernel)",
   "language": "python",
   "name": "python3"
  },
  "language_info": {
   "codemirror_mode": {
    "name": "ipython",
    "version": 3
   },
   "file_extension": ".py",
   "mimetype": "text/x-python",
   "name": "python",
   "nbconvert_exporter": "python",
   "pygments_lexer": "ipython3",
   "version": "3.10.11"
  }
 },
 "nbformat": 4,
 "nbformat_minor": 5
}
